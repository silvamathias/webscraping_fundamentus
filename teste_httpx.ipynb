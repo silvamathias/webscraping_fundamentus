{
 "cells": [
  {
   "cell_type": "markdown",
   "metadata": {},
   "source": []
  },
  {
   "cell_type": "code",
   "execution_count": 16,
   "metadata": {},
   "outputs": [],
   "source": [
    "import httpx as px\n",
    "from bs4 import BeautifulSoup as bs"
   ]
  },
  {
   "cell_type": "code",
   "execution_count": 8,
   "metadata": {},
   "outputs": [],
   "source": [
    "url = 'https://www.fundamentus.com.br/detalhes.php?papel='\n",
    "headers = {'User-Agent': 'Mozilla/5.0 (Macintosh; Intel Mac OS X 10_11_5) AppleWebKit/537.36 (KHTML, like Gecko) Chrome/50.0.2661.102 Safari/537.36'}\n"
   ]
  },
  {
   "cell_type": "code",
   "execution_count": 13,
   "metadata": {},
   "outputs": [],
   "source": [
    "html= px.get(url, headers=headers)"
   ]
  },
  {
   "cell_type": "code",
   "execution_count": 19,
   "metadata": {},
   "outputs": [],
   "source": [
    "ficha = bs(html, 'html.parser')\n",
    "tabela = ficha.findAll('tr')\n",
    "lista = []\n",
    "for tb in tabela:\n",
    "    \n",
    "    vlr = tb.findAll('td')\n",
    "    if vlr:\n",
    "        lin = [v.text for v in vlr]\n",
    "        lista += [lin]\n",
    "\n",
    "with open('listados_b3_httpx.txt','w') as arq_txt:\n",
    "    arq_txt.write ('papel;nome_comercial;razao_social')\n",
    "    for papel in lista:\n",
    "        primeiro = True\n",
    "        arq_txt.write ('\\n')\n",
    "        for col in papel:\n",
    "            if primeiro == False:\n",
    "                arq_txt.write (';' + col)\n",
    "            else:\n",
    "                arq_txt.write (col)\n",
    "                primeiro = False"
   ]
  }
 ],
 "metadata": {
  "kernelspec": {
   "display_name": "Python 3",
   "language": "python",
   "name": "python3"
  },
  "language_info": {
   "codemirror_mode": {
    "name": "ipython",
    "version": 3
   },
   "file_extension": ".py",
   "mimetype": "text/x-python",
   "name": "python",
   "nbconvert_exporter": "python",
   "pygments_lexer": "ipython3",
   "version": "3.12.4"
  }
 },
 "nbformat": 4,
 "nbformat_minor": 2
}
